{
 "cells": [
  {
   "cell_type": "markdown",
   "id": "a077e6d7-ead0-4a60-97d8-45ddda0aa354",
   "metadata": {},
   "source": [
    "# Why Controlling the Center is Important in Chess\n",
    "\n",
    "###### Jayden Ferguson\n",
    "###### DSC 3334\n",
    "###### Prof. Fendt\n",
    "\n",
    "\n",
    "\n",
    "## Introduction \n",
    "---\n",
    "Chess is a game that is easy to learn, but extremely difficult to master. Over recent years there has been a rise in chess popularity with a variety of content creators, influencers, and the rise of personality at the highest levels. There are many waty to improve at chess, however, with such a complicated game with an exponential amount of positions and decisions to make one of the best ways in recent years to improve and develop theory is to practice and consult with and against chess engines. Some popular ones include StockFish, SunFish, and AlphaZero. DeepBlue was one of the first engines I had ever heard of as I learned more about chess, and the process of creating these chess engines' intriguied me. And today, I am using a second iteration of a chess engine I have created to further encourage popular chess theory, in which controling the center is pivotal to having control of the entire game.  \n",
    "\n",
    "* ##### Note: Entire source code will eventually be avaliable on github if not already linked\n",
    "\n",
    "## Data & Methodology\n",
    "---\n",
    "#### Data\n",
    "Initially I was going to use some real data taken from games I played with a close friend to train a model to play chess \"perfectly\". As I was researching, there were many different approachs I could've taken, but I used this data as a way to evaluate and provide tool to measure my model. Overall I have variable data, that is all processed the same due to standardization of the chess python library, pgn files, and the lichess user api. While this model uses this data to make initial predictions and learn from previous positions, inspired by AlphaZero, the model learns and trains on itself and essentially starts from a zero baseline knowledge about chess. \n",
    "\n",
    "#### Methodology\n",
    "As an introduction to chess programming, there are a variety of ways to go about implementing a chess engine. Some goals and ideas that I wanted to tackle and try to achieve overall with the engine are the following:\n",
    "1. Evaluate positions of all game types\n",
    "2. Implement Reinforcement learning techniques\n",
    "3. Accurately log moves, positions, and model accuarcy\n",
    "4. Provide a form of viewing the model make moves in real time\n",
    "    * _Note: Even in the terminal_\n",
    "5. Implement fitting based on current knowledge and understanding\n",
    "\n",
    "How did I go about implementation?\n",
    "1. Parse and process PGN files properly\n",
    "2. Created a neural network to make predictions and evaluate board position\n",
    "3. Then Implemented a Monte Carlo Tree Search\n",
    "4. Create a self play environment\n",
    "5. Add reinforcement learning and training to the neural networks prediction capabilities\n",
    "6. Output board state\n",
    "\n",
    "----\n",
    "#### Why This Approach?\n",
    "Heavily inspired by AlphaZero, I was thinking that it would be a fun expereince to understand more about how some of the top engines work and what I could do with how they go about implementation. As state previously this is a second iteration of the engine as of now. While both take a genetic alogrithmic approach, my first iteration used a genome and a basic genetic algorithm to attempt to further improve the neural network model. However, this time I used a MCTS, to further improve the model as do most top engines. A MCTS allows for to scan a variety of positions at varying depths and simualate moves given a position on the board. My initial approach was a mashup of a variety of chess programming ideas crammed into one with MiniMax-AlphaBeta pruning, a neural network, and a genetic algorithm with a genome. However, this approach was a lot smoother and cleaner effectively integrating the neural network with the MCTS to further improve simultaneously. I also was able to better utilize the chess python library to maintain output throughout where previouly it was difficult to show an on-board representation of the model learning. "
   ]
  },
  {
   "cell_type": "code",
   "execution_count": null,
   "id": "cab92d35-15ed-416c-a1a9-b2f5a366cb6d",
   "metadata": {},
   "outputs": [],
   "source": [
    "\"\"\"\"\n",
    "Example Driver File\n",
    "Output: FEN\n",
    "\"\"\"\"\n",
    "from lib import * # Holding all helper functions everything should be accesssibile and viewable from the github repo\n",
    "def main():\n",
    "    model = create_model(8,256,64) \n",
    "    move_index_map = initialize_move_index()\n",
    "    node = Node(chess.STARTING_FEN, model)\n",
    "    play(model, node, move_index_map, 70, 30)\n",
    "\n",
    "if __name__ == \"__main__\":\n",
    "    main()\n"
   ]
  },
  {
   "cell_type": "markdown",
   "id": "0183c621-41ea-45cf-afbd-c2546c1c3c0d",
   "metadata": {},
   "source": [
    "## Looking at the Openings "
   ]
  },
  {
   "cell_type": "code",
   "execution_count": 4,
   "id": "230528c1-cc75-4596-b14a-37e983f0d902",
   "metadata": {},
   "outputs": [
    {
     "ename": "FileNotFoundError",
     "evalue": "[Errno 2] No such file or directory: '~chess_v2/Games_fen.txt'",
     "output_type": "error",
     "traceback": [
      "\u001b[0;31m---------------------------------------------------------------------------\u001b[0m",
      "\u001b[0;31mFileNotFoundError\u001b[0m                         Traceback (most recent call last)",
      "Cell \u001b[0;32mIn[4], line 26\u001b[0m\n\u001b[1;32m     23\u001b[0m file2 \u001b[38;5;241m=\u001b[39m \u001b[38;5;124m\"\u001b[39m\u001b[38;5;124m~chess_v2/Game_fens_trial2.txt\u001b[39m\u001b[38;5;124m\"\u001b[39m\n\u001b[1;32m     24\u001b[0m file3 \u001b[38;5;241m=\u001b[39m \u001b[38;5;124m\"\u001b[39m\u001b[38;5;124m~chess_v2/Game_fens_trial_3.txt\u001b[39m\u001b[38;5;124m\"\u001b[39m\n\u001b[0;32m---> 26\u001b[0m print_moves(file1,\u001b[38;5;241m5\u001b[39m)\n\u001b[1;32m     27\u001b[0m print_moves(file2,\u001b[38;5;241m5\u001b[39m)\n\u001b[1;32m     28\u001b[0m print_moves(file3,\u001b[38;5;241m5\u001b[39m)\n",
      "Cell \u001b[0;32mIn[4], line 11\u001b[0m, in \u001b[0;36mprint_moves\u001b[0;34m(file_path, n_moves)\u001b[0m\n\u001b[1;32m      9\u001b[0m \u001b[38;5;28;01mdef\u001b[39;00m \u001b[38;5;21mprint_moves\u001b[39m(file_path, n_moves):\n\u001b[1;32m     10\u001b[0m     \u001b[38;5;66;03m# Read FEN notation from file\u001b[39;00m\n\u001b[0;32m---> 11\u001b[0m     fen_data \u001b[38;5;241m=\u001b[39m read_fen_from_file(file_path)\n\u001b[1;32m     13\u001b[0m     \u001b[38;5;66;03m# Create a chess.Board() object\u001b[39;00m\n\u001b[1;32m     14\u001b[0m     board \u001b[38;5;241m=\u001b[39m chess\u001b[38;5;241m.\u001b[39mBoard()\n",
      "Cell \u001b[0;32mIn[4], line 4\u001b[0m, in \u001b[0;36mread_fen_from_file\u001b[0;34m(file_path)\u001b[0m\n\u001b[1;32m      3\u001b[0m \u001b[38;5;28;01mdef\u001b[39;00m \u001b[38;5;21mread_fen_from_file\u001b[39m(file_path):\n\u001b[0;32m----> 4\u001b[0m     \u001b[38;5;28;01mwith\u001b[39;00m \u001b[38;5;28mopen\u001b[39m(file_path, \u001b[38;5;124m'\u001b[39m\u001b[38;5;124mr\u001b[39m\u001b[38;5;124m'\u001b[39m) \u001b[38;5;28;01mas\u001b[39;00m file:\n\u001b[1;32m      5\u001b[0m         fen_data \u001b[38;5;241m=\u001b[39m file\u001b[38;5;241m.\u001b[39mreadlines()\n\u001b[1;32m      6\u001b[0m     \u001b[38;5;28;01mreturn\u001b[39;00m [fen\u001b[38;5;241m.\u001b[39mstrip() \u001b[38;5;28;01mfor\u001b[39;00m fen \u001b[38;5;129;01min\u001b[39;00m fen_data]\n",
      "File \u001b[0;32m/opt/anaconda3/lib/python3.11/site-packages/IPython/core/interactiveshell.py:310\u001b[0m, in \u001b[0;36m_modified_open\u001b[0;34m(file, *args, **kwargs)\u001b[0m\n\u001b[1;32m    303\u001b[0m \u001b[38;5;28;01mif\u001b[39;00m file \u001b[38;5;129;01min\u001b[39;00m {\u001b[38;5;241m0\u001b[39m, \u001b[38;5;241m1\u001b[39m, \u001b[38;5;241m2\u001b[39m}:\n\u001b[1;32m    304\u001b[0m     \u001b[38;5;28;01mraise\u001b[39;00m \u001b[38;5;167;01mValueError\u001b[39;00m(\n\u001b[1;32m    305\u001b[0m         \u001b[38;5;124mf\u001b[39m\u001b[38;5;124m\"\u001b[39m\u001b[38;5;124mIPython won\u001b[39m\u001b[38;5;124m'\u001b[39m\u001b[38;5;124mt let you open fd=\u001b[39m\u001b[38;5;132;01m{\u001b[39;00mfile\u001b[38;5;132;01m}\u001b[39;00m\u001b[38;5;124m by default \u001b[39m\u001b[38;5;124m\"\u001b[39m\n\u001b[1;32m    306\u001b[0m         \u001b[38;5;124m\"\u001b[39m\u001b[38;5;124mas it is likely to crash IPython. If you know what you are doing, \u001b[39m\u001b[38;5;124m\"\u001b[39m\n\u001b[1;32m    307\u001b[0m         \u001b[38;5;124m\"\u001b[39m\u001b[38;5;124myou can use builtins\u001b[39m\u001b[38;5;124m'\u001b[39m\u001b[38;5;124m open.\u001b[39m\u001b[38;5;124m\"\u001b[39m\n\u001b[1;32m    308\u001b[0m     )\n\u001b[0;32m--> 310\u001b[0m \u001b[38;5;28;01mreturn\u001b[39;00m io_open(file, \u001b[38;5;241m*\u001b[39margs, \u001b[38;5;241m*\u001b[39m\u001b[38;5;241m*\u001b[39mkwargs)\n",
      "\u001b[0;31mFileNotFoundError\u001b[0m: [Errno 2] No such file or directory: '~chess_v2/Games_fen.txt'"
     ]
    }
   ],
   "source": [
    "import chess\n",
    "# Function to read FEN notation from a text file\n",
    "def read_fen_from_file(file_path):\n",
    "    with open(file_path, 'r') as file:\n",
    "        fen_data = file.readlines()\n",
    "    return [fen.strip() for fen in fen_data]\n",
    "\n",
    "# Function to represent the board state after the first 5 moves\n",
    "def print_moves(file_path, n_moves):\n",
    "    # Read FEN notation from file\n",
    "    fen_data = read_fen_from_file(file_path)\n",
    "    \n",
    "    # Create a chess.Board() object\n",
    "    board = chess.Board()\n",
    "    \n",
    "    # Play the first 5 moves on the board\n",
    "    for fen in fen_data[:n_moves]:\n",
    "        board.set_fen(fen)\n",
    "        print(\"Move:\", board.peek())\n",
    "        print(board)\n",
    "        print()\n",
    "file1 = \"~chess_v2/Games_fen.txt\"\n",
    "file2 = \"~chess_v2/Game_fens_trial2.txt\"\n",
    "file3 = \"~chess_v2/Game_fens_trial_3.txt\"\n",
    "\n",
    "print_moves(file1,5)\n",
    "print_moves(file2,5)\n",
    "print_moves(file3,5)"
   ]
  }
 ],
 "metadata": {
  "kernelspec": {
   "display_name": "Python 3 (ipykernel)",
   "language": "python",
   "name": "python3"
  },
  "language_info": {
   "codemirror_mode": {
    "name": "ipython",
    "version": 3
   },
   "file_extension": ".py",
   "mimetype": "text/x-python",
   "name": "python",
   "nbconvert_exporter": "python",
   "pygments_lexer": "ipython3",
   "version": "3.11.5"
  }
 },
 "nbformat": 4,
 "nbformat_minor": 5
}
